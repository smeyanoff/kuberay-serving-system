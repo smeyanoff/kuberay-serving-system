{
 "cells": [
  {
   "cell_type": "code",
   "execution_count": 2,
   "metadata": {},
   "outputs": [],
   "source": [
    "import requests"
   ]
  },
  {
   "cell_type": "code",
   "execution_count": 112,
   "metadata": {},
   "outputs": [],
   "source": [
    "from http.client import HTTPSConnection\n",
    "from base64 import b64encode\n"
   ]
  },
  {
   "cell_type": "code",
   "execution_count": 113,
   "metadata": {},
   "outputs": [],
   "source": [
    "# Authorization token: we need to base 64 encode it \n",
    "# and then decode it to acsii as python 3 stores it as a byte string\n",
    "def basic_auth(username, password):\n",
    "    token = b64encode(f\"{username}:{password}\".encode('utf-8')).decode(\"ascii\")\n",
    "    return f'Basic {token}'"
   ]
  },
  {
   "cell_type": "code",
   "execution_count": 114,
   "metadata": {},
   "outputs": [],
   "source": [
    "username = \"user\"\n",
    "password = \"password\"\n",
    "\n",
    "#then connect\n",
    "headers = { 'Authorization' : basic_auth(username, password) }"
   ]
  },
  {
   "cell_type": "code",
   "execution_count": 119,
   "metadata": {},
   "outputs": [],
   "source": [
    "response_a = requests.get(\"http://localhost/model-A\", \n",
    "                          json={\"val1\":1, \"val2\": \"a\"},)\n",
    "                        #   headers=headers)"
   ]
  },
  {
   "cell_type": "code",
   "execution_count": 120,
   "metadata": {},
   "outputs": [
    {
     "data": {
      "text/plain": [
       "'{\"model_name\":\"model_A\",\"model_unswer\":1.0,\"model_data\":{\"val1\":2,\"val2\":\"a\"}}'"
      ]
     },
     "execution_count": 120,
     "metadata": {},
     "output_type": "execute_result"
    }
   ],
   "source": [
    "response_a.text"
   ]
  },
  {
   "cell_type": "code",
   "execution_count": 121,
   "metadata": {},
   "outputs": [],
   "source": [
    "# %%timeit\n",
    "response_a = requests.get(\"http://localhost/model-A\", json={\"val1\":1, \"val2\": \"a\"})\n",
    "response_b = requests.get(\"http://localhost/model-B\", json={\"val1\":1, \"val2\": \"a\"})\n",
    "response_c = requests.get(\"http://localhost/model-C\", json={\"val1\":1, \"val2\": \"a\"})"
   ]
  },
  {
   "cell_type": "code",
   "execution_count": 122,
   "metadata": {},
   "outputs": [
    {
     "name": "stdout",
     "output_type": "stream",
     "text": [
      "{\"model_name\":\"model_A\",\"model_unswer\":1.0,\"model_data\":{\"val1\":2,\"val2\":\"a\"}} \n",
      " {\"model_name\":\"model_B\",\"model_unswer\":1.0,\"model_data\":{\"val1\":1,\"val2\":\"a\"}} \n",
      " {\"model_name\":\"model_C\",\"model_unswer\":1.0,\"model_data\":{\"val1\":1,\"val2\":\"a\"}} \n",
      "\n"
     ]
    }
   ],
   "source": [
    "print(\n",
    "    response_a.text, \"\\n\",\n",
    "    response_b.text, \"\\n\",\n",
    "    response_c.text, \"\\n\",\n",
    ")"
   ]
  },
  {
   "cell_type": "code",
   "execution_count": null,
   "metadata": {},
   "outputs": [],
   "source": []
  }
 ],
 "metadata": {
  "kernelspec": {
   "display_name": ".venv",
   "language": "python",
   "name": "python3"
  },
  "language_info": {
   "codemirror_mode": {
    "name": "ipython",
    "version": 3
   },
   "file_extension": ".py",
   "mimetype": "text/x-python",
   "name": "python",
   "nbconvert_exporter": "python",
   "pygments_lexer": "ipython3",
   "version": "3.10.12"
  },
  "orig_nbformat": 4
 },
 "nbformat": 4,
 "nbformat_minor": 2
}
