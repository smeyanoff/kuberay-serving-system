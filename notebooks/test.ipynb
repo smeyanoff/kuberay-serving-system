{
 "cells": [
  {
   "cell_type": "code",
   "execution_count": 1,
   "metadata": {},
   "outputs": [],
   "source": [
    "import catboost\n",
    "import pickle"
   ]
  },
  {
   "cell_type": "code",
   "execution_count": 2,
   "metadata": {},
   "outputs": [],
   "source": [
    "import os\n",
    "os.chdir('..')"
   ]
  },
  {
   "cell_type": "code",
   "execution_count": 3,
   "metadata": {},
   "outputs": [],
   "source": [
    "import pandas as pd\n",
    "df = pd.read_parquet(\"data/data.parquet\")"
   ]
  },
  {
   "cell_type": "code",
   "execution_count": 4,
   "metadata": {},
   "outputs": [],
   "source": [
    "from src.data_models import DataModel"
   ]
  },
  {
   "cell_type": "code",
   "execution_count": 5,
   "metadata": {},
   "outputs": [],
   "source": [
    "dict_df = df.iloc[1,6:].to_dict()"
   ]
  },
  {
   "cell_type": "code",
   "execution_count": 6,
   "metadata": {},
   "outputs": [],
   "source": [
    "dm = DataModel(**dict_df)"
   ]
  },
  {
   "cell_type": "code",
   "execution_count": 7,
   "metadata": {},
   "outputs": [],
   "source": [
    "dm_string = DataModel.from_string(dm.json())"
   ]
  },
  {
   "cell_type": "code",
   "execution_count": 8,
   "metadata": {},
   "outputs": [
    {
     "data": {
      "text/plain": [
       "DataModel(type=1, sum=500000.0, internals_0=0, internals_1=nan, internals_2=nan, internals_3=nan, internals_4=nan, app_info_0=120.0, app_info_1=0.0, app_info_2=3.0, app_info_3=1.0, app_info_4=0.0, app_info_6=3.0, app_info_7=80000.0, app_info_8=25000.0, app_info_9=0.0, app_info_10=0.0, e_req_vars_0=nan, e_req_vars_1=nan, e_req_vars_2=nan, e_req_vars_3=nan, e_req_vars_4=nan, e_req_vars_5=nan, e_req_vars_6=nan, e_req_vars_7=nan, e_req_vars_8=nan, e_req_vars_9=nan, e_req_vars_10=nan, e_req_vars_11=nan, e_req_vars_12=nan, e_req_vars_13=nan, e_req_vars_14=nan, e_req_vars_15=nan, e_req_vars_16=nan, e_req_vars_17=nan, e_req_vars_18=nan, e_req_vars_19=nan, e_req_vars_20=nan, e_req_vars_21=nan, e_req_vars_22=nan, e_req_vars_23=nan, e_req_vars_24=nan, e_req_vars_25=nan, e_req_vars_26=nan, e_req_vars_27=nan, e_req_vars_28=nan, e_req_vars_29=nan, e_req_vars_30=nan, e_req_vars_31=nan, e_req_vars_32=nan, e_req_vars_33=nan, e_req_vars_34=nan, e_req_vars_35=nan, e_req_vars_36=nan, e_req_vars_37=nan, e_req_vars_38=nan, e_req_vars_39=nan, e_req_vars_40=nan, e_req_vars_41=nan, e_req_vars_42=nan, e_req_vars_43=nan, e_req_vars_44=nan, e_req_vars_45=nan, e_req_vars_46=nan, e_req_vars_47=nan, e_req_vars_48=nan, e_req_vars_49=nan, e_req_vars_50=nan, e_req_vars_51=nan, e_req_vars_52=nan, e_req_vars_53=nan, e_req_vars_54=nan, e_req_vars_55=nan, e_req_vars_56=nan, e_req_vars_57=nan, e_req_vars_58=nan, e_req_vars_59=nan, e_req_vars_60=nan, e_req_vars_61=nan, e_req_vars_62=nan, e_req_vars_63=nan, e_req_vars_64=nan, e_req_vars_65=nan, e_req_vars_66=nan, e_req_vars_67=nan, e_req_vars_68=nan, e_req_vars_69=nan, e_req_vars_70=nan, e_req_vars_71=nan, e_req_vars_72=nan, e_req_vars_73=nan, e_req_vars_74=nan, e_req_vars_75=nan, e_req_vars_76=nan, e_req_vars_77=nan, e_req_vars_78=nan, e_req_vars_79=nan, e_req_vars_80=nan, e_req_vars_81=nan, e_req_vars_82=nan, e_req_vars_83=nan, e_ch_vars_0=6.0, e_ch_vars_1=189.0, e_ch_vars_2=3.0, e_ch_vars_3=3.0, e_ch_vars_4=2.0, e_ch_vars_5=1.0, e_ch_vars_6=0.0, e_ch_vars_7=0.0, e_ch_vars_8=0.0, e_ch_vars_9=0.0, e_ch_vars_10=0.0, e_ch_vars_11=0.0, e_ch_vars_12=0.0, e_ch_vars_13=0.0, e_ch_vars_14=0.0, e_ch_vars_15=0.0, e_ch_vars_16=0.0, e_ch_vars_17=0.0, e_ch_vars_18=0.0, e_ch_vars_19=0.0, e_ch_vars_20=4.0, e_ch_vars_21=2.0, e_ch_vars_22=2.0, e_ch_vars_23=0.0, e_ch_vars_24=0.0, e_ch_vars_25=0.0, e_ch_vars_26=0.0, e_ch_vars_27=0.0, e_ch_vars_28=0.0, e_ch_vars_29=nan, e_ch_vars_30=nan, e_ch_vars_31=nan, e_ch_vars_32=nan, e_ch_vars_33=nan, e_ch_vars_34=nan, e_ch_vars_35=nan, e_ch_vars_36=nan, e_ch_vars_37=nan, e_ch_vars_38=nan, e_ch_vars_39=nan, e_ch_vars_40=nan, e_ch_vars_41=nan, e_ch_vars_42=nan, e_ch_vars_43=nan, e_ch_vars_44=0.0, e_ch_vars_45=0.0, e_ch_vars_46=3.0, e_ch_vars_47=3.0, e_ch_vars_48=12.0, e_ch_vars_49=nan, e_ch_vars_50=nan, e_ch_vars_51=1086587.0, e_ch_vars_52=1086587.0, e_ch_vars_53=1840939.5100002289, e_ch_vars_54=nan, e_ch_vars_55=nan, e_ch_vars_56=140915.0, e_ch_vars_57=140915.0, e_ch_vars_58=939444.780702591, e_ch_vars_59=nan, e_ch_vars_60=nan, e_ch_vars_61=968618.0, e_ch_vars_62=968618.0, e_ch_vars_63=968618.0, e_ch_vars_64=968618.0, e_ch_vars_65=nan, e_ch_vars_66=65000.0, e_ch_vars_67=1191587.0, e_ch_vars_68=1191587.0, e_ch_vars_69=1960939.5100002289, e_ch_vars_70=1044224.780702591, e_ch_vars_71=10853.0, e_ch_vars_72=0.933872, e_ch_vars_73=1000000.0, e_ch_vars_74=13.510000228881836, e_ch_vars_75=7558607.0, e_ch_vars_76=7558607.0, e_ch_vars_77=968618.0, e_ch_vars_78=933872.0, e_ch_vars_79=nan, e_ch_vars_80=nan, e_ch_vars_81=nan, e_ch_vars_82=nan, e_ch_vars_83=nan, e_ch_vars_84=nan, e_ch_vars_85=nan, e_ch_vars_86=nan, e_ch_vars_87=nan, e_ch_vars_88=nan, e_ch_vars_89=nan, e_ch_vars_90=nan, e_ch_vars_91=114394.0, e_ch_vars_92=114394.0, e_ch_vars_93=438174.0, e_ch_vars_94=nan, e_ch_vars_95=0.0, e_ch_vars_96=0.0, e_ch_vars_97=0.0, e_ch_vars_98=6300.0, e_ch_vars_99=nan, e_ch_vars_100=0.0, e_ch_vars_101=0.0, e_ch_vars_102=0.0, e_ch_vars_103=6300.0, e_ch_vars_104=nan, e_ch_vars_105=0.0, e_ch_vars_106=114394.0, e_ch_vars_107=114394.0, e_ch_vars_108=438174.0, e_ch_vars_109=nan, e_ch_vars_110=nan, e_ch_vars_111=0.0, e_ch_vars_112=0.0, e_ch_vars_113=10853.0, e_ch_vars_114=nan, e_ch_vars_115=0.0, e_ch_vars_116=0.0, e_ch_vars_117=0.0, e_ch_vars_118=0.0, e_ch_vars_119=nan, e_ch_vars_120=0.0, e_ch_vars_121=0.0, e_ch_vars_122=0.0, e_ch_vars_123=0.0, e_ch_vars_124=2.0, e_ch_vars_125=0.0, e_ch_vars_126=0.0, e_ch_vars_127=67.0, e_ch_vars_128=18.0, e_ch_vars_129=3.7222222222222223, e_ch_vars_130=13.0, e_ch_vars_131=0.7222222222222222, e_req_vars_84=nan, e_req_vars_85=nan, e_req_vars_86=nan, e_req_vars_87=nan, e_ch_vars_132=0.0)"
      ]
     },
     "execution_count": 8,
     "metadata": {},
     "output_type": "execute_result"
    }
   ],
   "source": [
    "dm_string"
   ]
  },
  {
   "cell_type": "code",
   "execution_count": 7,
   "metadata": {},
   "outputs": [],
   "source": [
    "# test catboost"
   ]
  },
  {
   "cell_type": "code",
   "execution_count": 10,
   "metadata": {},
   "outputs": [],
   "source": [
    "model_path = \"models/catboost_D36.pkl\""
   ]
  },
  {
   "cell_type": "code",
   "execution_count": 11,
   "metadata": {},
   "outputs": [],
   "source": [
    "with open(model_path, \"rb\") as file:\n",
    "    model: catboost.CatBoostClassifier = pickle.load(file)"
   ]
  },
  {
   "cell_type": "code",
   "execution_count": 12,
   "metadata": {},
   "outputs": [
    {
     "data": {
      "text/plain": [
       "0.008614132171733974"
      ]
     },
     "execution_count": 12,
     "metadata": {},
     "output_type": "execute_result"
    }
   ],
   "source": [
    "model.predict_proba(dm.values_to_list())[1]"
   ]
  },
  {
   "cell_type": "code",
   "execution_count": 13,
   "metadata": {},
   "outputs": [],
   "source": [
    "# test xgboost"
   ]
  },
  {
   "cell_type": "code",
   "execution_count": 8,
   "metadata": {},
   "outputs": [],
   "source": [
    "import xgboost"
   ]
  },
  {
   "cell_type": "code",
   "execution_count": 9,
   "metadata": {},
   "outputs": [],
   "source": [
    "model_path = \"models/xgboost_D24.pkl\""
   ]
  },
  {
   "cell_type": "code",
   "execution_count": 10,
   "metadata": {},
   "outputs": [
    {
     "name": "stderr",
     "output_type": "stream",
     "text": [
      "/home/dmitry/projects/credit-scoring-system/.venv/lib/python3.10/site-packages/xgboost/core.py:160: UserWarning: [18:22:50] WARNING: /workspace/src/common/error_msg.h:80: If you are loading a serialized model (like pickle in Python, RDS in R) or\n",
      "configuration generated by an older version of XGBoost, please export the model by calling\n",
      "`Booster.save_model` from that version first, then load it back in current version. See:\n",
      "\n",
      "    https://xgboost.readthedocs.io/en/stable/tutorials/saving_model.html\n",
      "\n",
      "for more details about differences between saving model and serializing.\n",
      "\n",
      "  warnings.warn(smsg, UserWarning)\n"
     ]
    }
   ],
   "source": [
    "with open(model_path, \"rb\") as file:\n",
    "    model: xgboost.Booster = pickle.load(file)"
   ]
  },
  {
   "cell_type": "code",
   "execution_count": 13,
   "metadata": {},
   "outputs": [
    {
     "data": {
      "text/plain": [
       "0.11328902"
      ]
     },
     "execution_count": 13,
     "metadata": {},
     "output_type": "execute_result"
    }
   ],
   "source": [
    "model.predict(dm.values_to_dmatrix())[0]"
   ]
  },
  {
   "cell_type": "code",
   "execution_count": 1,
   "metadata": {},
   "outputs": [],
   "source": [
    "# test service"
   ]
  },
  {
   "cell_type": "code",
   "execution_count": 9,
   "metadata": {},
   "outputs": [],
   "source": [
    "import requests"
   ]
  },
  {
   "cell_type": "code",
   "execution_count": 10,
   "metadata": {},
   "outputs": [],
   "source": [
    "models_list = [\"D_24_MODEL\", \"D_36_MODEL\"]"
   ]
  },
  {
   "cell_type": "code",
   "execution_count": 23,
   "metadata": {},
   "outputs": [],
   "source": [
    "response_a = requests.get(f\"http://localhost:8000/{models_list[0]}\", \n",
    "                          json=dm.json().replace(\"NaN\", \"None\"))"
   ]
  },
  {
   "cell_type": "code",
   "execution_count": 24,
   "metadata": {},
   "outputs": [
    {
     "data": {
      "text/plain": [
       "b'{\"model_name\":\"D_24_MODEL_V_1\",\"model_unswer\":0.11328902095556259,\"model_data\":{\"type\":1,\"sum\":500000.0,\"internals_0\":0,\"internals_1\":null,\"internals_2\":null,\"internals_3\":null,\"internals_4\":null,\"app_info_0\":120.0,\"app_info_1\":0.0,\"app_info_2\":3.0,\"app_info_3\":1.0,\"app_info_4\":0.0,\"app_info_6\":3.0,\"app_info_7\":80000.0,\"app_info_8\":25000.0,\"app_info_9\":0.0,\"app_info_10\":0.0,\"e_req_vars_0\":null,\"e_req_vars_1\":null,\"e_req_vars_2\":null,\"e_req_vars_3\":null,\"e_req_vars_4\":null,\"e_req_vars_5\":null,\"e_req_vars_6\":null,\"e_req_vars_7\":null,\"e_req_vars_8\":null,\"e_req_vars_9\":null,\"e_req_vars_10\":null,\"e_req_vars_11\":null,\"e_req_vars_12\":null,\"e_req_vars_13\":null,\"e_req_vars_14\":null,\"e_req_vars_15\":null,\"e_req_vars_16\":null,\"e_req_vars_17\":null,\"e_req_vars_18\":null,\"e_req_vars_19\":null,\"e_req_vars_20\":null,\"e_req_vars_21\":null,\"e_req_vars_22\":null,\"e_req_vars_23\":null,\"e_req_vars_24\":null,\"e_req_vars_25\":null,\"e_req_vars_26\":null,\"e_req_vars_27\":null,\"e_req_vars_28\":null,\"e_req_vars_29\":null,\"e_req_vars_30\":null,\"e_req_vars_31\":null,\"e_req_vars_32\":null,\"e_req_vars_33\":null,\"e_req_vars_34\":null,\"e_req_vars_35\":null,\"e_req_vars_36\":null,\"e_req_vars_37\":null,\"e_req_vars_38\":null,\"e_req_vars_39\":null,\"e_req_vars_40\":null,\"e_req_vars_41\":null,\"e_req_vars_42\":null,\"e_req_vars_43\":null,\"e_req_vars_44\":null,\"e_req_vars_45\":null,\"e_req_vars_46\":null,\"e_req_vars_47\":null,\"e_req_vars_48\":null,\"e_req_vars_49\":null,\"e_req_vars_50\":null,\"e_req_vars_51\":null,\"e_req_vars_52\":null,\"e_req_vars_53\":null,\"e_req_vars_54\":null,\"e_req_vars_55\":null,\"e_req_vars_56\":null,\"e_req_vars_57\":null,\"e_req_vars_58\":null,\"e_req_vars_59\":null,\"e_req_vars_60\":null,\"e_req_vars_61\":null,\"e_req_vars_62\":null,\"e_req_vars_63\":null,\"e_req_vars_64\":null,\"e_req_vars_65\":null,\"e_req_vars_66\":null,\"e_req_vars_67\":null,\"e_req_vars_68\":null,\"e_req_vars_69\":null,\"e_req_vars_70\":null,\"e_req_vars_71\":null,\"e_req_vars_72\":null,\"e_req_vars_73\":null,\"e_req_vars_74\":null,\"e_req_vars_75\":null,\"e_req_vars_76\":null,\"e_req_vars_77\":null,\"e_req_vars_78\":null,\"e_req_vars_79\":null,\"e_req_vars_80\":null,\"e_req_vars_81\":null,\"e_req_vars_82\":null,\"e_req_vars_83\":null,\"e_ch_vars_0\":6.0,\"e_ch_vars_1\":189.0,\"e_ch_vars_2\":3.0,\"e_ch_vars_3\":3.0,\"e_ch_vars_4\":2.0,\"e_ch_vars_5\":1.0,\"e_ch_vars_6\":0.0,\"e_ch_vars_7\":0.0,\"e_ch_vars_8\":0.0,\"e_ch_vars_9\":0.0,\"e_ch_vars_10\":0.0,\"e_ch_vars_11\":0.0,\"e_ch_vars_12\":0.0,\"e_ch_vars_13\":0.0,\"e_ch_vars_14\":0.0,\"e_ch_vars_15\":0.0,\"e_ch_vars_16\":0.0,\"e_ch_vars_17\":0.0,\"e_ch_vars_18\":0.0,\"e_ch_vars_19\":0.0,\"e_ch_vars_20\":4.0,\"e_ch_vars_21\":2.0,\"e_ch_vars_22\":2.0,\"e_ch_vars_23\":0.0,\"e_ch_vars_24\":0.0,\"e_ch_vars_25\":0.0,\"e_ch_vars_26\":0.0,\"e_ch_vars_27\":0.0,\"e_ch_vars_28\":0.0,\"e_ch_vars_29\":null,\"e_ch_vars_30\":null,\"e_ch_vars_31\":null,\"e_ch_vars_32\":null,\"e_ch_vars_33\":null,\"e_ch_vars_34\":null,\"e_ch_vars_35\":null,\"e_ch_vars_36\":null,\"e_ch_vars_37\":null,\"e_ch_vars_38\":null,\"e_ch_vars_39\":null,\"e_ch_vars_40\":null,\"e_ch_vars_41\":null,\"e_ch_vars_42\":null,\"e_ch_vars_43\":null,\"e_ch_vars_44\":0.0,\"e_ch_vars_45\":0.0,\"e_ch_vars_46\":3.0,\"e_ch_vars_47\":3.0,\"e_ch_vars_48\":12.0,\"e_ch_vars_49\":null,\"e_ch_vars_50\":null,\"e_ch_vars_51\":1086587.0,\"e_ch_vars_52\":1086587.0,\"e_ch_vars_53\":1840939.5100002289,\"e_ch_vars_54\":null,\"e_ch_vars_55\":null,\"e_ch_vars_56\":140915.0,\"e_ch_vars_57\":140915.0,\"e_ch_vars_58\":939444.780702591,\"e_ch_vars_59\":null,\"e_ch_vars_60\":null,\"e_ch_vars_61\":968618.0,\"e_ch_vars_62\":968618.0,\"e_ch_vars_63\":968618.0,\"e_ch_vars_64\":968618.0,\"e_ch_vars_65\":null,\"e_ch_vars_66\":65000.0,\"e_ch_vars_67\":1191587.0,\"e_ch_vars_68\":1191587.0,\"e_ch_vars_69\":1960939.5100002289,\"e_ch_vars_70\":1044224.780702591,\"e_ch_vars_71\":10853.0,\"e_ch_vars_72\":0.933872,\"e_ch_vars_73\":1000000.0,\"e_ch_vars_74\":13.510000228881836,\"e_ch_vars_75\":7558607.0,\"e_ch_vars_76\":7558607.0,\"e_ch_vars_77\":968618.0,\"e_ch_vars_78\":933872.0,\"e_ch_vars_79\":null,\"e_ch_vars_80\":null,\"e_ch_vars_81\":null,\"e_ch_vars_82\":null,\"e_ch_vars_83\":null,\"e_ch_vars_84\":null,\"e_ch_vars_85\":null,\"e_ch_vars_86\":null,\"e_ch_vars_87\":null,\"e_ch_vars_88\":null,\"e_ch_vars_89\":null,\"e_ch_vars_90\":null,\"e_ch_vars_91\":114394.0,\"e_ch_vars_92\":114394.0,\"e_ch_vars_93\":438174.0,\"e_ch_vars_94\":null,\"e_ch_vars_95\":0.0,\"e_ch_vars_96\":0.0,\"e_ch_vars_97\":0.0,\"e_ch_vars_98\":6300.0,\"e_ch_vars_99\":null,\"e_ch_vars_100\":0.0,\"e_ch_vars_101\":0.0,\"e_ch_vars_102\":0.0,\"e_ch_vars_103\":6300.0,\"e_ch_vars_104\":null,\"e_ch_vars_105\":0.0,\"e_ch_vars_106\":114394.0,\"e_ch_vars_107\":114394.0,\"e_ch_vars_108\":438174.0,\"e_ch_vars_109\":null,\"e_ch_vars_110\":null,\"e_ch_vars_111\":0.0,\"e_ch_vars_112\":0.0,\"e_ch_vars_113\":10853.0,\"e_ch_vars_114\":null,\"e_ch_vars_115\":0.0,\"e_ch_vars_116\":0.0,\"e_ch_vars_117\":0.0,\"e_ch_vars_118\":0.0,\"e_ch_vars_119\":null,\"e_ch_vars_120\":0.0,\"e_ch_vars_121\":0.0,\"e_ch_vars_122\":0.0,\"e_ch_vars_123\":0.0,\"e_ch_vars_124\":2.0,\"e_ch_vars_125\":0.0,\"e_ch_vars_126\":0.0,\"e_ch_vars_127\":67.0,\"e_ch_vars_128\":18.0,\"e_ch_vars_129\":3.7222222222222223,\"e_ch_vars_130\":13.0,\"e_ch_vars_131\":0.7222222222222222,\"e_req_vars_84\":null,\"e_req_vars_85\":null,\"e_req_vars_86\":null,\"e_req_vars_87\":null,\"e_ch_vars_132\":0.0}}'"
      ]
     },
     "execution_count": 24,
     "metadata": {},
     "output_type": "execute_result"
    }
   ],
   "source": [
    "response_a.content"
   ]
  },
  {
   "cell_type": "code",
   "execution_count": null,
   "metadata": {},
   "outputs": [],
   "source": []
  }
 ],
 "metadata": {
  "kernelspec": {
   "display_name": ".venv",
   "language": "python",
   "name": "python3"
  },
  "language_info": {
   "codemirror_mode": {
    "name": "ipython",
    "version": 3
   },
   "file_extension": ".py",
   "mimetype": "text/x-python",
   "name": "python",
   "nbconvert_exporter": "python",
   "pygments_lexer": "ipython3",
   "version": "3.10.12"
  }
 },
 "nbformat": 4,
 "nbformat_minor": 2
}
