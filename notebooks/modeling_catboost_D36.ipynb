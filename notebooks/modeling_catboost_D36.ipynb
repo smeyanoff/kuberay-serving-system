{
 "cells": [
  {
   "cell_type": "code",
   "execution_count": 1,
   "metadata": {},
   "outputs": [
    {
     "name": "stderr",
     "output_type": "stream",
     "text": [
      "/Users/rinatmahmutov/Library/Caches/pypoetry/virtualenvs/credit-scoring-system-6uT9HQl1-py3.9/lib/python3.9/site-packages/tqdm/auto.py:21: TqdmWarning: IProgress not found. Please update jupyter and ipywidgets. See https://ipywidgets.readthedocs.io/en/stable/user_install.html\n",
      "  from .autonotebook import tqdm as notebook_tqdm\n"
     ]
    }
   ],
   "source": [
    "import wandb\n",
    "from wandb.integration.catboost import WandbCallback\n",
    "import catboost\n",
    "from sklearn.model_selection import train_test_split\n",
    "from sklearn.metrics import roc_auc_score\n",
    "import pandas as pd\n",
    "import numpy as np\n",
    "import optuna\n"
   ]
  },
  {
   "cell_type": "code",
   "execution_count": 2,
   "metadata": {},
   "outputs": [
    {
     "name": "stdout",
     "output_type": "stream",
     "text": [
      "\u001b[34m\u001b[1mwandb\u001b[0m: Currently logged in as: \u001b[33mtalverinat\u001b[0m (\u001b[33mloko-bank\u001b[0m). Use \u001b[1m`wandb login --relogin`\u001b[0m to force relogin\n"
     ]
    }
   ],
   "source": [
    "!poetry run wandb login\n"
   ]
  },
  {
   "cell_type": "code",
   "execution_count": 3,
   "metadata": {},
   "outputs": [],
   "source": [
    "import os\n",
    "\n",
    "os.environ[\"WANDB_NOTEBOOK_NAME\"] = \"../notebooks/modeling_catboost_D36.ipynb\"\n"
   ]
  },
  {
   "cell_type": "code",
   "execution_count": 4,
   "metadata": {},
   "outputs": [],
   "source": [
    "SEED = 2023\n",
    "TEST_SIZE = 0.2\n",
    "\n",
    "NUM_EPOCHES = 5\n",
    "N_SPLITS = 4\n",
    "N_REPEATS = 10\n",
    "N_TRIALS = 200\n"
   ]
  },
  {
   "cell_type": "code",
   "execution_count": 5,
   "metadata": {},
   "outputs": [],
   "source": [
    "df = pd.read_parquet(\"../data/data.parquet\")\n"
   ]
  },
  {
   "cell_type": "code",
   "execution_count": 6,
   "metadata": {},
   "outputs": [],
   "source": [
    "X = df.drop([\"date\", \"D_12\", \"D_24\", \"D_36\", \"D_48\", \"D\"], axis=1)\n",
    "y = df[\"D_36\"]\n"
   ]
  },
  {
   "cell_type": "code",
   "execution_count": 7,
   "metadata": {},
   "outputs": [],
   "source": [
    "X_train_temp, X_test, y_train_temp, y_test = train_test_split(\n",
    "    X, y, test_size=TEST_SIZE, random_state=SEED, shuffle=True, stratify=y\n",
    ")\n"
   ]
  },
  {
   "cell_type": "code",
   "execution_count": 8,
   "metadata": {},
   "outputs": [],
   "source": [
    "X_train, X_valid, y_train, y_valid = train_test_split(\n",
    "    X_train_temp,\n",
    "    y_train_temp,\n",
    "    test_size=TEST_SIZE,\n",
    "    random_state=SEED,\n",
    "    shuffle=True,\n",
    "    stratify=y_train_temp,\n",
    ")\n"
   ]
  },
  {
   "cell_type": "code",
   "execution_count": 9,
   "metadata": {},
   "outputs": [
    {
     "name": "stderr",
     "output_type": "stream",
     "text": [
      "\u001b[34m\u001b[1mwandb\u001b[0m: Currently logged in as: \u001b[33mtalverinat\u001b[0m (\u001b[33mloko-bank\u001b[0m). Use \u001b[1m`wandb login --relogin`\u001b[0m to force relogin\n"
     ]
    },
    {
     "data": {
      "text/html": [
       "Tracking run with wandb version 0.16.0"
      ],
      "text/plain": [
       "<IPython.core.display.HTML object>"
      ]
     },
     "metadata": {},
     "output_type": "display_data"
    },
    {
     "data": {
      "text/html": [
       "Run data is saved locally in <code>/Users/rinatmahmutov/Desktop/credit-scoring-system/notebooks/wandb/run-20231121_204104-nppendho</code>"
      ],
      "text/plain": [
       "<IPython.core.display.HTML object>"
      ]
     },
     "metadata": {},
     "output_type": "display_data"
    },
    {
     "data": {
      "text/html": [
       "Syncing run <strong><a href='https://wandb.ai/loko-bank/modeling%20first%20run/runs/nppendho' target=\"_blank\">young-sun-7</a></strong> to <a href='https://wandb.ai/loko-bank/modeling%20first%20run' target=\"_blank\">Weights & Biases</a> (<a href='https://wandb.me/run' target=\"_blank\">docs</a>)<br/>"
      ],
      "text/plain": [
       "<IPython.core.display.HTML object>"
      ]
     },
     "metadata": {},
     "output_type": "display_data"
    },
    {
     "data": {
      "text/html": [
       " View project at <a href='https://wandb.ai/loko-bank/modeling%20first%20run' target=\"_blank\">https://wandb.ai/loko-bank/modeling%20first%20run</a>"
      ],
      "text/plain": [
       "<IPython.core.display.HTML object>"
      ]
     },
     "metadata": {},
     "output_type": "display_data"
    },
    {
     "data": {
      "text/html": [
       " View run at <a href='https://wandb.ai/loko-bank/modeling%20first%20run/runs/nppendho' target=\"_blank\">https://wandb.ai/loko-bank/modeling%20first%20run/runs/nppendho</a>"
      ],
      "text/plain": [
       "<IPython.core.display.HTML object>"
      ]
     },
     "metadata": {},
     "output_type": "display_data"
    }
   ],
   "source": [
    "# Инициализируйте wandb с вашим ключом авторизации\n",
    "settings = wandb.Settings(job_source=\"artifact\")\n",
    "wandb.init(\n",
    "    project=\"modeling first run\",\n",
    "    config={\n",
    "        \"learning_rate\": 0.01,\n",
    "        \"depth\": 6,\n",
    "        \"iterations\": 100,\n",
    "    },\n",
    ")\n",
    "\n",
    "# Создайте объект DMatrix для обучающего и тестового набора данных\n",
    "dtrain = catboost.Pool(X_train, label=y_train)\n",
    "dtest = catboost.Pool(X_valid, label=y_valid)\n",
    "\n",
    "\n",
    "# Задайте параметры модели\n",
    "params = {\n",
    "    \"learning_rate\": wandb.config.learning_rate,\n",
    "    \"depth\": wandb.config.depth,\n",
    "    \"iterations\": wandb.config.iterations,\n",
    "}\n"
   ]
  },
  {
   "cell_type": "code",
   "execution_count": 10,
   "metadata": {},
   "outputs": [],
   "source": [
    "model = catboost.CatBoostClassifier(**params)\n"
   ]
  },
  {
   "cell_type": "code",
   "execution_count": 11,
   "metadata": {},
   "outputs": [
    {
     "name": "stdout",
     "output_type": "stream",
     "text": [
      "0:\tlearn: 0.6633966\ttest: 0.6635001\tbest: 0.6635001 (0)\ttotal: 471ms\tremaining: 46.6s\n",
      "1:\tlearn: 0.6347677\ttest: 0.6348592\tbest: 0.6348592 (1)\ttotal: 710ms\tremaining: 34.8s\n",
      "2:\tlearn: 0.6073910\ttest: 0.6075012\tbest: 0.6075012 (2)\ttotal: 858ms\tremaining: 27.7s\n",
      "3:\tlearn: 0.5811437\ttest: 0.5812835\tbest: 0.5812835 (3)\ttotal: 1.01s\tremaining: 24.4s\n",
      "4:\tlearn: 0.5559421\ttest: 0.5560757\tbest: 0.5560757 (4)\ttotal: 1.19s\tremaining: 22.7s\n",
      "5:\tlearn: 0.5316630\ttest: 0.5317875\tbest: 0.5317875 (5)\ttotal: 1.37s\tremaining: 21.5s\n",
      "6:\tlearn: 0.5087051\ttest: 0.5088230\tbest: 0.5088230 (6)\ttotal: 1.52s\tremaining: 20.2s\n",
      "7:\tlearn: 0.4866777\ttest: 0.4867712\tbest: 0.4867712 (7)\ttotal: 1.65s\tremaining: 19s\n",
      "8:\tlearn: 0.4655135\ttest: 0.4656022\tbest: 0.4656022 (8)\ttotal: 1.8s\tremaining: 18.2s\n",
      "9:\tlearn: 0.4452490\ttest: 0.4453186\tbest: 0.4453186 (9)\ttotal: 1.98s\tremaining: 17.8s\n",
      "10:\tlearn: 0.4261143\ttest: 0.4261880\tbest: 0.4261880 (10)\ttotal: 2.15s\tremaining: 17.4s\n",
      "11:\tlearn: 0.4077216\ttest: 0.4077872\tbest: 0.4077872 (11)\ttotal: 2.58s\tremaining: 18.9s\n",
      "12:\tlearn: 0.3902357\ttest: 0.3903040\tbest: 0.3903040 (12)\ttotal: 3.54s\tremaining: 23.7s\n",
      "13:\tlearn: 0.3734346\ttest: 0.3734982\tbest: 0.3734982 (13)\ttotal: 4.2s\tremaining: 25.8s\n",
      "14:\tlearn: 0.3575075\ttest: 0.3575659\tbest: 0.3575659 (14)\ttotal: 4.79s\tremaining: 27.1s\n",
      "15:\tlearn: 0.3423861\ttest: 0.3424393\tbest: 0.3424393 (15)\ttotal: 5.2s\tremaining: 27.3s\n",
      "16:\tlearn: 0.3279814\ttest: 0.3280350\tbest: 0.3280350 (16)\ttotal: 5.64s\tremaining: 27.5s\n",
      "17:\tlearn: 0.3141787\ttest: 0.3142340\tbest: 0.3142340 (17)\ttotal: 6.01s\tremaining: 27.4s\n",
      "18:\tlearn: 0.3010584\ttest: 0.3011190\tbest: 0.3011190 (18)\ttotal: 6.44s\tremaining: 27.4s\n",
      "19:\tlearn: 0.2885374\ttest: 0.2886008\tbest: 0.2886008 (19)\ttotal: 6.84s\tremaining: 27.4s\n",
      "20:\tlearn: 0.2765064\ttest: 0.2765782\tbest: 0.2765782 (20)\ttotal: 7.46s\tremaining: 28.1s\n",
      "21:\tlearn: 0.2650891\ttest: 0.2651693\tbest: 0.2651693 (21)\ttotal: 7.87s\tremaining: 27.9s\n",
      "22:\tlearn: 0.2542502\ttest: 0.2543355\tbest: 0.2543355 (22)\ttotal: 8.22s\tremaining: 27.5s\n",
      "23:\tlearn: 0.2439200\ttest: 0.2440100\tbest: 0.2440100 (23)\ttotal: 8.61s\tremaining: 27.3s\n",
      "24:\tlearn: 0.2339786\ttest: 0.2340745\tbest: 0.2340745 (24)\ttotal: 8.95s\tremaining: 26.9s\n",
      "25:\tlearn: 0.2244545\ttest: 0.2245538\tbest: 0.2245538 (25)\ttotal: 9.33s\tremaining: 26.5s\n",
      "26:\tlearn: 0.2153767\ttest: 0.2154794\tbest: 0.2154794 (26)\ttotal: 9.72s\tremaining: 26.3s\n",
      "27:\tlearn: 0.2067038\ttest: 0.2068144\tbest: 0.2068144 (27)\ttotal: 10.1s\tremaining: 25.9s\n",
      "28:\tlearn: 0.1984947\ttest: 0.1986120\tbest: 0.1986120 (28)\ttotal: 10.4s\tremaining: 25.5s\n",
      "29:\tlearn: 0.1907444\ttest: 0.1908620\tbest: 0.1908620 (29)\ttotal: 10.7s\tremaining: 25s\n",
      "30:\tlearn: 0.1832965\ttest: 0.1834220\tbest: 0.1834220 (30)\ttotal: 11.1s\tremaining: 24.6s\n",
      "31:\tlearn: 0.1761853\ttest: 0.1763127\tbest: 0.1763127 (31)\ttotal: 11.4s\tremaining: 24.2s\n",
      "32:\tlearn: 0.1694774\ttest: 0.1696107\tbest: 0.1696107 (32)\ttotal: 11.6s\tremaining: 23.6s\n",
      "33:\tlearn: 0.1630934\ttest: 0.1632292\tbest: 0.1632292 (33)\ttotal: 11.8s\tremaining: 22.9s\n",
      "34:\tlearn: 0.1568827\ttest: 0.1570235\tbest: 0.1570235 (34)\ttotal: 12.1s\tremaining: 22.5s\n",
      "35:\tlearn: 0.1509713\ttest: 0.1511161\tbest: 0.1511161 (35)\ttotal: 12.4s\tremaining: 22s\n",
      "36:\tlearn: 0.1454261\ttest: 0.1455747\tbest: 0.1455747 (36)\ttotal: 12.7s\tremaining: 21.6s\n",
      "37:\tlearn: 0.1400950\ttest: 0.1402459\tbest: 0.1402459 (37)\ttotal: 13.1s\tremaining: 21.4s\n",
      "38:\tlearn: 0.1349950\ttest: 0.1351450\tbest: 0.1351450 (38)\ttotal: 13.6s\tremaining: 21.2s\n",
      "39:\tlearn: 0.1301146\ttest: 0.1302653\tbest: 0.1302653 (39)\ttotal: 13.7s\tremaining: 20.6s\n",
      "40:\tlearn: 0.1254587\ttest: 0.1256115\tbest: 0.1256115 (40)\ttotal: 14s\tremaining: 20.1s\n",
      "41:\tlearn: 0.1210967\ttest: 0.1212482\tbest: 0.1212482 (41)\ttotal: 14.1s\tremaining: 19.5s\n",
      "42:\tlearn: 0.1168755\ttest: 0.1170270\tbest: 0.1170270 (42)\ttotal: 14.4s\tremaining: 19.1s\n",
      "43:\tlearn: 0.1128584\ttest: 0.1130091\tbest: 0.1130091 (43)\ttotal: 14.5s\tremaining: 18.5s\n",
      "44:\tlearn: 0.1090080\ttest: 0.1091572\tbest: 0.1091572 (44)\ttotal: 14.7s\tremaining: 17.9s\n",
      "45:\tlearn: 0.1053849\ttest: 0.1055339\tbest: 0.1055339 (45)\ttotal: 14.8s\tremaining: 17.4s\n",
      "46:\tlearn: 0.1019156\ttest: 0.1020638\tbest: 0.1020638 (46)\ttotal: 14.9s\tremaining: 16.9s\n",
      "47:\tlearn: 0.0985327\ttest: 0.0986820\tbest: 0.0986820 (47)\ttotal: 15.1s\tremaining: 16.4s\n",
      "48:\tlearn: 0.0953213\ttest: 0.0954707\tbest: 0.0954707 (48)\ttotal: 15.2s\tremaining: 15.9s\n",
      "49:\tlearn: 0.0922780\ttest: 0.0924263\tbest: 0.0924263 (49)\ttotal: 15.4s\tremaining: 15.4s\n",
      "50:\tlearn: 0.0893889\ttest: 0.0895363\tbest: 0.0895363 (50)\ttotal: 15.5s\tremaining: 14.9s\n",
      "51:\tlearn: 0.0866071\ttest: 0.0867532\tbest: 0.0867532 (51)\ttotal: 15.7s\tremaining: 14.5s\n",
      "52:\tlearn: 0.0839026\ttest: 0.0840495\tbest: 0.0840495 (52)\ttotal: 15.9s\tremaining: 14.1s\n",
      "53:\tlearn: 0.0813427\ttest: 0.0814888\tbest: 0.0814888 (53)\ttotal: 16s\tremaining: 13.6s\n",
      "54:\tlearn: 0.0788220\ttest: 0.0789699\tbest: 0.0789699 (54)\ttotal: 16.2s\tremaining: 13.2s\n",
      "55:\tlearn: 0.0764813\ttest: 0.0766277\tbest: 0.0766277 (55)\ttotal: 16.4s\tremaining: 12.9s\n",
      "56:\tlearn: 0.0742458\ttest: 0.0743913\tbest: 0.0743913 (56)\ttotal: 16.5s\tremaining: 12.5s\n",
      "57:\tlearn: 0.0721073\ttest: 0.0722513\tbest: 0.0722513 (57)\ttotal: 16.6s\tremaining: 12s\n",
      "58:\tlearn: 0.0700426\ttest: 0.0701848\tbest: 0.0701848 (58)\ttotal: 16.8s\tremaining: 11.6s\n",
      "59:\tlearn: 0.0680778\ttest: 0.0682175\tbest: 0.0682175 (59)\ttotal: 16.9s\tremaining: 11.3s\n",
      "60:\tlearn: 0.0661795\ttest: 0.0663185\tbest: 0.0663185 (60)\ttotal: 17s\tremaining: 10.9s\n",
      "61:\tlearn: 0.0643811\ttest: 0.0645190\tbest: 0.0645190 (61)\ttotal: 17.1s\tremaining: 10.5s\n",
      "62:\tlearn: 0.0626489\ttest: 0.0627854\tbest: 0.0627854 (62)\ttotal: 17.3s\tremaining: 10.2s\n",
      "63:\tlearn: 0.0609668\ttest: 0.0611039\tbest: 0.0611039 (63)\ttotal: 17.5s\tremaining: 9.82s\n",
      "64:\tlearn: 0.0593733\ttest: 0.0595091\tbest: 0.0595091 (64)\ttotal: 17.6s\tremaining: 9.46s\n",
      "65:\tlearn: 0.0578568\ttest: 0.0579910\tbest: 0.0579910 (65)\ttotal: 17.7s\tremaining: 9.12s\n",
      "66:\tlearn: 0.0563645\ttest: 0.0564959\tbest: 0.0564959 (66)\ttotal: 17.8s\tremaining: 8.78s\n",
      "67:\tlearn: 0.0549632\ttest: 0.0550934\tbest: 0.0550934 (67)\ttotal: 18s\tremaining: 8.46s\n",
      "68:\tlearn: 0.0536182\ttest: 0.0537477\tbest: 0.0537477 (68)\ttotal: 18.1s\tremaining: 8.13s\n",
      "69:\tlearn: 0.0523248\ttest: 0.0524513\tbest: 0.0524513 (69)\ttotal: 18.2s\tremaining: 7.81s\n",
      "70:\tlearn: 0.0510829\ttest: 0.0512073\tbest: 0.0512073 (70)\ttotal: 18.4s\tremaining: 7.53s\n",
      "71:\tlearn: 0.0498840\ttest: 0.0500072\tbest: 0.0500072 (71)\ttotal: 18.6s\tremaining: 7.22s\n",
      "72:\tlearn: 0.0487257\ttest: 0.0488477\tbest: 0.0488477 (72)\ttotal: 18.7s\tremaining: 6.93s\n",
      "73:\tlearn: 0.0476220\ttest: 0.0477427\tbest: 0.0477427 (73)\ttotal: 18.9s\tremaining: 6.63s\n",
      "74:\tlearn: 0.0465546\ttest: 0.0466757\tbest: 0.0466757 (74)\ttotal: 19s\tremaining: 6.34s\n",
      "75:\tlearn: 0.0455280\ttest: 0.0456483\tbest: 0.0456483 (75)\ttotal: 19.2s\tremaining: 6.05s\n",
      "76:\tlearn: 0.0445601\ttest: 0.0446787\tbest: 0.0446787 (76)\ttotal: 19.3s\tremaining: 5.76s\n",
      "77:\tlearn: 0.0436299\ttest: 0.0437472\tbest: 0.0437472 (77)\ttotal: 19.4s\tremaining: 5.47s\n",
      "78:\tlearn: 0.0427329\ttest: 0.0428509\tbest: 0.0428509 (78)\ttotal: 19.6s\tremaining: 5.2s\n",
      "79:\tlearn: 0.0418669\ttest: 0.0419844\tbest: 0.0419844 (79)\ttotal: 19.7s\tremaining: 4.92s\n",
      "80:\tlearn: 0.0410065\ttest: 0.0411252\tbest: 0.0411252 (80)\ttotal: 19.9s\tremaining: 4.66s\n",
      "81:\tlearn: 0.0401778\ttest: 0.0402976\tbest: 0.0402976 (81)\ttotal: 20s\tremaining: 4.39s\n",
      "82:\tlearn: 0.0394101\ttest: 0.0395291\tbest: 0.0395291 (82)\ttotal: 20.1s\tremaining: 4.12s\n",
      "83:\tlearn: 0.0386638\ttest: 0.0387817\tbest: 0.0387817 (83)\ttotal: 20.3s\tremaining: 3.86s\n",
      "84:\tlearn: 0.0379492\ttest: 0.0380654\tbest: 0.0380654 (84)\ttotal: 20.4s\tremaining: 3.61s\n",
      "85:\tlearn: 0.0372515\ttest: 0.0373684\tbest: 0.0373684 (85)\ttotal: 20.6s\tremaining: 3.35s\n",
      "86:\tlearn: 0.0365958\ttest: 0.0367113\tbest: 0.0367113 (86)\ttotal: 20.7s\tremaining: 3.09s\n",
      "87:\tlearn: 0.0359619\ttest: 0.0360759\tbest: 0.0360759 (87)\ttotal: 20.8s\tremaining: 2.84s\n",
      "88:\tlearn: 0.0353439\ttest: 0.0354569\tbest: 0.0354569 (88)\ttotal: 21s\tremaining: 2.59s\n",
      "89:\tlearn: 0.0347489\ttest: 0.0348615\tbest: 0.0348615 (89)\ttotal: 21.1s\tremaining: 2.35s\n",
      "90:\tlearn: 0.0341778\ttest: 0.0342900\tbest: 0.0342900 (90)\ttotal: 21.3s\tremaining: 2.1s\n",
      "91:\tlearn: 0.0336261\ttest: 0.0337375\tbest: 0.0337375 (91)\ttotal: 21.4s\tremaining: 1.86s\n",
      "92:\tlearn: 0.0330908\ttest: 0.0332019\tbest: 0.0332019 (92)\ttotal: 21.6s\tremaining: 1.62s\n",
      "93:\tlearn: 0.0325762\ttest: 0.0326869\tbest: 0.0326869 (93)\ttotal: 21.7s\tremaining: 1.39s\n",
      "94:\tlearn: 0.0320798\ttest: 0.0321896\tbest: 0.0321896 (94)\ttotal: 21.8s\tremaining: 1.15s\n",
      "95:\tlearn: 0.0315966\ttest: 0.0317067\tbest: 0.0317067 (95)\ttotal: 22.1s\tremaining: 922ms\n",
      "96:\tlearn: 0.0311327\ttest: 0.0312430\tbest: 0.0312430 (96)\ttotal: 22.4s\tremaining: 694ms\n",
      "97:\tlearn: 0.0306770\ttest: 0.0307869\tbest: 0.0307869 (97)\ttotal: 22.6s\tremaining: 461ms\n",
      "98:\tlearn: 0.0302472\ttest: 0.0303566\tbest: 0.0303566 (98)\ttotal: 22.9s\tremaining: 231ms\n",
      "99:\tlearn: 0.0298333\ttest: 0.0299421\tbest: 0.0299421 (99)\ttotal: 23s\tremaining: 0us\n",
      "\n",
      "bestTest = 0.02994206115\n",
      "bestIteration = 99\n",
      "\n"
     ]
    },
    {
     "data": {
      "text/plain": [
       "<catboost.core.CatBoostClassifier at 0x126be4c10>"
      ]
     },
     "execution_count": 11,
     "metadata": {},
     "output_type": "execute_result"
    }
   ],
   "source": [
    "model.fit(dtrain, eval_set=dtest, early_stopping_rounds=5, callbacks=[WandbCallback()])\n"
   ]
  },
  {
   "cell_type": "code",
   "execution_count": 12,
   "metadata": {},
   "outputs": [],
   "source": [
    "# Сделайте предсказания\n",
    "y_pred = model.predict_proba(dtest)[:, 1]\n",
    "\n",
    "# Оцените точность модели\n",
    "gini_score = 2 * roc_auc_score(y_valid, y_pred) - 1\n",
    "\n",
    "# Залогируйте метрики\n",
    "wandb.log({\"gini\": gini_score})\n"
   ]
  },
  {
   "cell_type": "code",
   "execution_count": 13,
   "metadata": {},
   "outputs": [],
   "source": [
    "# Функция, которую Optuna будет оптимизировать (Objective function)\n",
    "def objective(trial):\n",
    "    params = {\n",
    "        'iterations': trial.suggest_int('iterations', 100, 1000),\n",
    "        'learning_rate': trial.suggest_float('learning_rate', 0.01, 0.3, log=True),\n",
    "        'depth': trial.suggest_int('depth', 4, 10),\n",
    "        'l2_leaf_reg': trial.suggest_float('l2_leaf_reg', 1e-3, 10.0, log=True),\n",
    "    }\n",
    "\n",
    "    # Подготовка данных\n",
    "    X_train, X_val, y_train, y_val = train_test_split(X, y, test_size=0.2, random_state=42)\n",
    "    train_data = catboost.Pool(data=X_train, label=y_train)\n",
    "    validation_data = catboost.Pool(data=X_val, label=y_val)\n",
    "\n",
    "    # Создание модели с параметрами из Optuna\n",
    "    model = catboost.CatBoostClassifier(**params, custom_metric=['AUC'])\n",
    "    \n",
    "\n",
    "    # Обучение модели с callback для логирования в wandb\n",
    "    model.fit(train_data, eval_set=validation_data, verbose=False, callbacks=[WandbCallback()])\n",
    "\n",
    "    # Вычисление метрики для оптимизации (AUC)\n",
    "    predictions = model.predict_proba(X_val)[:, 1]\n",
    "    y_pred = model.predict_proba(dtest)[:, 1]\n",
    "\n",
    "    # Оцените точность модели\n",
    "    gini_score = 2 * roc_auc_score(y_valid, y_pred) - 1\n",
    "\n",
    "    # Залогируйте метрики\n",
    "    wandb.log({\"gini\": gini_score})\n",
    "\n",
    "    \n",
    "    return gini_score\n"
   ]
  },
  {
   "cell_type": "code",
   "execution_count": 14,
   "metadata": {},
   "outputs": [
    {
     "name": "stderr",
     "output_type": "stream",
     "text": [
      "[I 2023-11-21 20:41:32,573] A new study created in memory with name: no-name-f758930b-69f3-4aee-9bd8-f6794afce8cc\n",
      "[I 2023-11-21 20:43:53,617] Trial 0 finished with value: 0.9046089111027458 and parameters: {'iterations': 522, 'learning_rate': 0.10537870093309225, 'depth': 5, 'l2_leaf_reg': 0.23206919458499523}. Best is trial 0 with value: 0.9046089111027458.\n"
     ]
    },
    {
     "name": "stdout",
     "output_type": "stream",
     "text": [
      "Лучшие параметры: {'iterations': 522, 'learning_rate': 0.10537870093309225, 'depth': 5, 'l2_leaf_reg': 0.23206919458499523}\n"
     ]
    }
   ],
   "source": [
    "# Запуск оптимизации с помощью Optuna\n",
    "study = optuna.create_study(direction=\"maximize\")\n",
    "study.optimize(objective, n_trials=1)\n",
    "\n",
    "# Получение лучших гиперпараметров\n",
    "best_params = study.best_params\n",
    "print(f\"Лучшие параметры: {best_params}\")\n"
   ]
  },
  {
   "cell_type": "code",
   "execution_count": 15,
   "metadata": {},
   "outputs": [],
   "source": [
    "model = catboost.CatBoostClassifier(**best_params)\n"
   ]
  },
  {
   "cell_type": "code",
   "execution_count": 16,
   "metadata": {},
   "outputs": [
    {
     "name": "stdout",
     "output_type": "stream",
     "text": [
      "0:\tlearn: 0.4250564\ttest: 0.4250588\tbest: 0.4250588 (0)\ttotal: 168ms\tremaining: 1m 27s\n",
      "1:\tlearn: 0.2631964\ttest: 0.2632327\tbest: 0.2632327 (1)\ttotal: 463ms\tremaining: 2m\n",
      "2:\tlearn: 0.1681584\ttest: 0.1682596\tbest: 0.1682596 (2)\ttotal: 604ms\tremaining: 1m 44s\n",
      "3:\tlearn: 0.1120373\ttest: 0.1121949\tbest: 0.1121949 (3)\ttotal: 818ms\tremaining: 1m 45s\n",
      "4:\tlearn: 0.0772897\ttest: 0.0774704\tbest: 0.0774704 (4)\ttotal: 1.03s\tremaining: 1m 47s\n",
      "5:\tlearn: 0.0567635\ttest: 0.0569271\tbest: 0.0569271 (5)\ttotal: 1.65s\tremaining: 2m 22s\n",
      "6:\tlearn: 0.0438301\ttest: 0.0439655\tbest: 0.0439655 (6)\ttotal: 2.16s\tremaining: 2m 38s\n",
      "7:\tlearn: 0.0354011\ttest: 0.0355157\tbest: 0.0355157 (7)\ttotal: 2.53s\tremaining: 2m 42s\n",
      "8:\tlearn: 0.0298814\ttest: 0.0299879\tbest: 0.0299879 (8)\ttotal: 2.77s\tremaining: 2m 37s\n",
      "9:\tlearn: 0.0257918\ttest: 0.0259220\tbest: 0.0259220 (9)\ttotal: 3.15s\tremaining: 2m 41s\n",
      "10:\tlearn: 0.0232057\ttest: 0.0233333\tbest: 0.0233333 (10)\ttotal: 3.52s\tremaining: 2m 43s\n",
      "11:\tlearn: 0.0212527\ttest: 0.0213854\tbest: 0.0213854 (11)\ttotal: 3.87s\tremaining: 2m 44s\n",
      "12:\tlearn: 0.0197556\ttest: 0.0199068\tbest: 0.0199068 (12)\ttotal: 4.1s\tremaining: 2m 40s\n",
      "13:\tlearn: 0.0188800\ttest: 0.0190270\tbest: 0.0190270 (13)\ttotal: 4.21s\tremaining: 2m 32s\n",
      "14:\tlearn: 0.0182352\ttest: 0.0183817\tbest: 0.0183817 (14)\ttotal: 4.31s\tremaining: 2m 25s\n",
      "15:\tlearn: 0.0175321\ttest: 0.0177013\tbest: 0.0177013 (15)\ttotal: 4.44s\tremaining: 2m 20s\n",
      "16:\tlearn: 0.0170925\ttest: 0.0172719\tbest: 0.0172719 (16)\ttotal: 4.57s\tremaining: 2m 15s\n",
      "17:\tlearn: 0.0164878\ttest: 0.0167205\tbest: 0.0167205 (17)\ttotal: 4.73s\tremaining: 2m 12s\n",
      "18:\tlearn: 0.0162140\ttest: 0.0164598\tbest: 0.0164598 (18)\ttotal: 4.91s\tremaining: 2m 9s\n",
      "19:\tlearn: 0.0158384\ttest: 0.0161184\tbest: 0.0161184 (19)\ttotal: 5.33s\tremaining: 2m 13s\n",
      "20:\tlearn: 0.0157078\ttest: 0.0160030\tbest: 0.0160030 (20)\ttotal: 5.95s\tremaining: 2m 22s\n",
      "21:\tlearn: 0.0156174\ttest: 0.0159213\tbest: 0.0159213 (21)\ttotal: 6.29s\tremaining: 2m 23s\n",
      "22:\tlearn: 0.0155158\ttest: 0.0158315\tbest: 0.0158315 (22)\ttotal: 6.66s\tremaining: 2m 24s\n",
      "23:\tlearn: 0.0153360\ttest: 0.0156946\tbest: 0.0156946 (23)\ttotal: 6.95s\tremaining: 2m 24s\n",
      "24:\tlearn: 0.0152741\ttest: 0.0156438\tbest: 0.0156438 (24)\ttotal: 7.25s\tremaining: 2m 24s\n",
      "25:\tlearn: 0.0152056\ttest: 0.0155799\tbest: 0.0155799 (25)\ttotal: 7.66s\tremaining: 2m 26s\n",
      "26:\tlearn: 0.0151615\ttest: 0.0155534\tbest: 0.0155534 (26)\ttotal: 7.96s\tremaining: 2m 25s\n",
      "27:\tlearn: 0.0151225\ttest: 0.0155272\tbest: 0.0155272 (27)\ttotal: 8.29s\tremaining: 2m 26s\n",
      "28:\tlearn: 0.0149775\ttest: 0.0153852\tbest: 0.0153852 (28)\ttotal: 8.66s\tremaining: 2m 27s\n",
      "29:\tlearn: 0.0149208\ttest: 0.0153397\tbest: 0.0153397 (29)\ttotal: 8.99s\tremaining: 2m 27s\n",
      "30:\tlearn: 0.0148731\ttest: 0.0153202\tbest: 0.0153202 (30)\ttotal: 9.23s\tremaining: 2m 26s\n",
      "31:\tlearn: 0.0147974\ttest: 0.0152537\tbest: 0.0152537 (31)\ttotal: 9.42s\tremaining: 2m 24s\n",
      "32:\tlearn: 0.0147553\ttest: 0.0152402\tbest: 0.0152402 (32)\ttotal: 9.61s\tremaining: 2m 22s\n",
      "33:\tlearn: 0.0146555\ttest: 0.0151989\tbest: 0.0151989 (33)\ttotal: 9.8s\tremaining: 2m 20s\n",
      "34:\tlearn: 0.0146323\ttest: 0.0151836\tbest: 0.0151836 (34)\ttotal: 10.1s\tremaining: 2m 21s\n",
      "35:\tlearn: 0.0145956\ttest: 0.0151697\tbest: 0.0151697 (35)\ttotal: 10.4s\tremaining: 2m 21s\n",
      "36:\tlearn: 0.0145587\ttest: 0.0151525\tbest: 0.0151525 (36)\ttotal: 10.9s\tremaining: 2m 23s\n",
      "37:\tlearn: 0.0144901\ttest: 0.0150806\tbest: 0.0150806 (37)\ttotal: 11.3s\tremaining: 2m 23s\n",
      "38:\tlearn: 0.0144321\ttest: 0.0150263\tbest: 0.0150263 (38)\ttotal: 11.6s\tremaining: 2m 23s\n",
      "39:\tlearn: 0.0144077\ttest: 0.0150101\tbest: 0.0150101 (39)\ttotal: 11.8s\tremaining: 2m 21s\n",
      "40:\tlearn: 0.0143840\ttest: 0.0150029\tbest: 0.0150029 (40)\ttotal: 11.9s\tremaining: 2m 19s\n",
      "41:\tlearn: 0.0143582\ttest: 0.0149999\tbest: 0.0149999 (41)\ttotal: 12s\tremaining: 2m 17s\n",
      "42:\tlearn: 0.0142739\ttest: 0.0149286\tbest: 0.0149286 (42)\ttotal: 12.2s\tremaining: 2m 16s\n",
      "43:\tlearn: 0.0142475\ttest: 0.0149235\tbest: 0.0149235 (43)\ttotal: 12.4s\tremaining: 2m 14s\n",
      "44:\tlearn: 0.0142266\ttest: 0.0149086\tbest: 0.0149086 (44)\ttotal: 12.6s\tremaining: 2m 13s\n",
      "45:\tlearn: 0.0141633\ttest: 0.0148841\tbest: 0.0148841 (45)\ttotal: 12.8s\tremaining: 2m 12s\n",
      "46:\tlearn: 0.0141326\ttest: 0.0148703\tbest: 0.0148703 (46)\ttotal: 13s\tremaining: 2m 10s\n",
      "47:\tlearn: 0.0140951\ttest: 0.0148507\tbest: 0.0148507 (47)\ttotal: 13.2s\tremaining: 2m 9s\n",
      "48:\tlearn: 0.0140504\ttest: 0.0148213\tbest: 0.0148213 (48)\ttotal: 13.5s\tremaining: 2m 10s\n",
      "49:\tlearn: 0.0140221\ttest: 0.0148003\tbest: 0.0148003 (49)\ttotal: 13.7s\tremaining: 2m 8s\n",
      "50:\tlearn: 0.0139820\ttest: 0.0147719\tbest: 0.0147719 (50)\ttotal: 13.8s\tremaining: 2m 7s\n",
      "51:\tlearn: 0.0139623\ttest: 0.0147658\tbest: 0.0147658 (51)\ttotal: 14.1s\tremaining: 2m 7s\n",
      "52:\tlearn: 0.0139339\ttest: 0.0147528\tbest: 0.0147528 (52)\ttotal: 14.3s\tremaining: 2m 6s\n",
      "53:\tlearn: 0.0138779\ttest: 0.0146895\tbest: 0.0146895 (53)\ttotal: 14.4s\tremaining: 2m 4s\n",
      "54:\tlearn: 0.0138676\ttest: 0.0146894\tbest: 0.0146894 (54)\ttotal: 14.5s\tremaining: 2m 3s\n",
      "55:\tlearn: 0.0138375\ttest: 0.0146848\tbest: 0.0146848 (55)\ttotal: 14.6s\tremaining: 2m 1s\n",
      "56:\tlearn: 0.0137926\ttest: 0.0146516\tbest: 0.0146516 (56)\ttotal: 14.8s\tremaining: 2m\n",
      "57:\tlearn: 0.0137532\ttest: 0.0146381\tbest: 0.0146381 (57)\ttotal: 14.9s\tremaining: 1m 59s\n",
      "58:\tlearn: 0.0137337\ttest: 0.0146298\tbest: 0.0146298 (58)\ttotal: 15.1s\tremaining: 1m 58s\n",
      "59:\tlearn: 0.0136949\ttest: 0.0146117\tbest: 0.0146117 (59)\ttotal: 15.2s\tremaining: 1m 57s\n",
      "60:\tlearn: 0.0136661\ttest: 0.0145915\tbest: 0.0145915 (60)\ttotal: 15.3s\tremaining: 1m 55s\n",
      "61:\tlearn: 0.0136238\ttest: 0.0145759\tbest: 0.0145759 (61)\ttotal: 15.4s\tremaining: 1m 54s\n",
      "62:\tlearn: 0.0136022\ttest: 0.0145560\tbest: 0.0145560 (62)\ttotal: 15.5s\tremaining: 1m 53s\n",
      "63:\tlearn: 0.0135538\ttest: 0.0145328\tbest: 0.0145328 (63)\ttotal: 15.7s\tremaining: 1m 52s\n",
      "64:\tlearn: 0.0135257\ttest: 0.0145254\tbest: 0.0145254 (64)\ttotal: 15.8s\tremaining: 1m 50s\n",
      "65:\tlearn: 0.0135037\ttest: 0.0145191\tbest: 0.0145191 (65)\ttotal: 15.9s\tremaining: 1m 49s\n",
      "66:\tlearn: 0.0134871\ttest: 0.0145035\tbest: 0.0145035 (66)\ttotal: 16s\tremaining: 1m 48s\n",
      "67:\tlearn: 0.0134732\ttest: 0.0145049\tbest: 0.0145035 (66)\ttotal: 16.1s\tremaining: 1m 47s\n",
      "68:\tlearn: 0.0134558\ttest: 0.0144980\tbest: 0.0144980 (68)\ttotal: 16.2s\tremaining: 1m 46s\n",
      "69:\tlearn: 0.0134393\ttest: 0.0144964\tbest: 0.0144964 (69)\ttotal: 16.4s\tremaining: 1m 45s\n",
      "70:\tlearn: 0.0134182\ttest: 0.0144851\tbest: 0.0144851 (70)\ttotal: 16.6s\tremaining: 1m 45s\n",
      "71:\tlearn: 0.0133973\ttest: 0.0144755\tbest: 0.0144755 (71)\ttotal: 16.7s\tremaining: 1m 44s\n",
      "72:\tlearn: 0.0133747\ttest: 0.0144662\tbest: 0.0144662 (72)\ttotal: 16.8s\tremaining: 1m 43s\n",
      "73:\tlearn: 0.0133272\ttest: 0.0144374\tbest: 0.0144374 (73)\ttotal: 17s\tremaining: 1m 43s\n",
      "74:\tlearn: 0.0132970\ttest: 0.0144185\tbest: 0.0144185 (74)\ttotal: 17.4s\tremaining: 1m 43s\n",
      "75:\tlearn: 0.0132772\ttest: 0.0144052\tbest: 0.0144052 (75)\ttotal: 17.6s\tremaining: 1m 43s\n",
      "76:\tlearn: 0.0132635\ttest: 0.0144008\tbest: 0.0144008 (76)\ttotal: 17.7s\tremaining: 1m 42s\n",
      "77:\tlearn: 0.0132293\ttest: 0.0144148\tbest: 0.0144008 (76)\ttotal: 17.8s\tremaining: 1m 41s\n",
      "78:\tlearn: 0.0131840\ttest: 0.0143727\tbest: 0.0143727 (78)\ttotal: 18s\tremaining: 1m 40s\n",
      "79:\tlearn: 0.0131664\ttest: 0.0143722\tbest: 0.0143722 (79)\ttotal: 18.1s\tremaining: 1m 39s\n",
      "80:\tlearn: 0.0131464\ttest: 0.0143519\tbest: 0.0143519 (80)\ttotal: 18.2s\tremaining: 1m 39s\n",
      "81:\tlearn: 0.0131321\ttest: 0.0143456\tbest: 0.0143456 (81)\ttotal: 18.4s\tremaining: 1m 38s\n",
      "82:\tlearn: 0.0131052\ttest: 0.0143395\tbest: 0.0143395 (82)\ttotal: 18.6s\tremaining: 1m 38s\n",
      "83:\tlearn: 0.0130872\ttest: 0.0143335\tbest: 0.0143335 (83)\ttotal: 18.7s\tremaining: 1m 37s\n",
      "84:\tlearn: 0.0130680\ttest: 0.0143299\tbest: 0.0143299 (84)\ttotal: 18.8s\tremaining: 1m 36s\n",
      "85:\tlearn: 0.0130558\ttest: 0.0143212\tbest: 0.0143212 (85)\ttotal: 19s\tremaining: 1m 36s\n",
      "86:\tlearn: 0.0130327\ttest: 0.0143149\tbest: 0.0143149 (86)\ttotal: 19.1s\tremaining: 1m 35s\n",
      "87:\tlearn: 0.0130032\ttest: 0.0142923\tbest: 0.0142923 (87)\ttotal: 19.3s\tremaining: 1m 34s\n",
      "88:\tlearn: 0.0129839\ttest: 0.0142845\tbest: 0.0142845 (88)\ttotal: 19.5s\tremaining: 1m 34s\n",
      "89:\tlearn: 0.0129568\ttest: 0.0142769\tbest: 0.0142769 (89)\ttotal: 19.7s\tremaining: 1m 34s\n",
      "90:\tlearn: 0.0129352\ttest: 0.0142736\tbest: 0.0142736 (90)\ttotal: 19.8s\tremaining: 1m 33s\n",
      "91:\tlearn: 0.0129200\ttest: 0.0142734\tbest: 0.0142734 (91)\ttotal: 20s\tremaining: 1m 33s\n",
      "92:\tlearn: 0.0129007\ttest: 0.0142746\tbest: 0.0142734 (91)\ttotal: 20.2s\tremaining: 1m 33s\n",
      "93:\tlearn: 0.0128781\ttest: 0.0142742\tbest: 0.0142734 (91)\ttotal: 20.4s\tremaining: 1m 32s\n",
      "94:\tlearn: 0.0128689\ttest: 0.0142692\tbest: 0.0142692 (94)\ttotal: 20.6s\tremaining: 1m 32s\n",
      "95:\tlearn: 0.0128417\ttest: 0.0142647\tbest: 0.0142647 (95)\ttotal: 20.7s\tremaining: 1m 31s\n",
      "96:\tlearn: 0.0128316\ttest: 0.0142670\tbest: 0.0142647 (95)\ttotal: 20.8s\tremaining: 1m 31s\n",
      "97:\tlearn: 0.0128057\ttest: 0.0142485\tbest: 0.0142485 (97)\ttotal: 21.1s\tremaining: 1m 31s\n",
      "98:\tlearn: 0.0127866\ttest: 0.0142432\tbest: 0.0142432 (98)\ttotal: 21.2s\tremaining: 1m 30s\n",
      "99:\tlearn: 0.0127772\ttest: 0.0142416\tbest: 0.0142416 (99)\ttotal: 21.3s\tremaining: 1m 30s\n",
      "100:\tlearn: 0.0127642\ttest: 0.0142347\tbest: 0.0142347 (100)\ttotal: 21.5s\tremaining: 1m 29s\n",
      "101:\tlearn: 0.0127436\ttest: 0.0142250\tbest: 0.0142250 (101)\ttotal: 21.7s\tremaining: 1m 29s\n",
      "102:\tlearn: 0.0127321\ttest: 0.0142209\tbest: 0.0142209 (102)\ttotal: 21.8s\tremaining: 1m 28s\n",
      "103:\tlearn: 0.0127141\ttest: 0.0142141\tbest: 0.0142141 (103)\ttotal: 21.9s\tremaining: 1m 28s\n",
      "104:\tlearn: 0.0126769\ttest: 0.0141875\tbest: 0.0141875 (104)\ttotal: 22s\tremaining: 1m 27s\n",
      "105:\tlearn: 0.0126554\ttest: 0.0141912\tbest: 0.0141875 (104)\ttotal: 22.1s\tremaining: 1m 26s\n",
      "106:\tlearn: 0.0126350\ttest: 0.0141835\tbest: 0.0141835 (106)\ttotal: 22.3s\tremaining: 1m 26s\n",
      "107:\tlearn: 0.0126184\ttest: 0.0141765\tbest: 0.0141765 (107)\ttotal: 22.5s\tremaining: 1m 26s\n",
      "108:\tlearn: 0.0126056\ttest: 0.0141785\tbest: 0.0141765 (107)\ttotal: 22.6s\tremaining: 1m 25s\n",
      "109:\tlearn: 0.0125874\ttest: 0.0141750\tbest: 0.0141750 (109)\ttotal: 22.8s\tremaining: 1m 25s\n",
      "110:\tlearn: 0.0125618\ttest: 0.0141602\tbest: 0.0141602 (110)\ttotal: 22.9s\tremaining: 1m 24s\n",
      "111:\tlearn: 0.0125345\ttest: 0.0141530\tbest: 0.0141530 (111)\ttotal: 23.2s\tremaining: 1m 24s\n",
      "112:\tlearn: 0.0125076\ttest: 0.0141410\tbest: 0.0141410 (112)\ttotal: 23.3s\tremaining: 1m 24s\n",
      "113:\tlearn: 0.0124928\ttest: 0.0141399\tbest: 0.0141399 (113)\ttotal: 23.4s\tremaining: 1m 23s\n",
      "114:\tlearn: 0.0124807\ttest: 0.0141350\tbest: 0.0141350 (114)\ttotal: 23.6s\tremaining: 1m 23s\n",
      "115:\tlearn: 0.0124674\ttest: 0.0141319\tbest: 0.0141319 (115)\ttotal: 23.7s\tremaining: 1m 22s\n",
      "116:\tlearn: 0.0124468\ttest: 0.0141255\tbest: 0.0141255 (116)\ttotal: 23.9s\tremaining: 1m 22s\n",
      "117:\tlearn: 0.0124292\ttest: 0.0141170\tbest: 0.0141170 (117)\ttotal: 24s\tremaining: 1m 22s\n",
      "118:\tlearn: 0.0123822\ttest: 0.0141127\tbest: 0.0141127 (118)\ttotal: 24.2s\tremaining: 1m 21s\n",
      "119:\tlearn: 0.0123591\ttest: 0.0141088\tbest: 0.0141088 (119)\ttotal: 24.4s\tremaining: 1m 21s\n",
      "120:\tlearn: 0.0123472\ttest: 0.0141069\tbest: 0.0141069 (120)\ttotal: 24.5s\tremaining: 1m 21s\n",
      "121:\tlearn: 0.0123353\ttest: 0.0141046\tbest: 0.0141046 (121)\ttotal: 24.6s\tremaining: 1m 20s\n",
      "122:\tlearn: 0.0123207\ttest: 0.0141000\tbest: 0.0141000 (122)\ttotal: 24.8s\tremaining: 1m 20s\n",
      "123:\tlearn: 0.0123061\ttest: 0.0140915\tbest: 0.0140915 (123)\ttotal: 24.9s\tremaining: 1m 20s\n",
      "124:\tlearn: 0.0122912\ttest: 0.0140849\tbest: 0.0140849 (124)\ttotal: 25.2s\tremaining: 1m 20s\n",
      "125:\tlearn: 0.0122776\ttest: 0.0140857\tbest: 0.0140849 (124)\ttotal: 25.5s\tremaining: 1m 20s\n",
      "126:\tlearn: 0.0122614\ttest: 0.0140801\tbest: 0.0140801 (126)\ttotal: 25.6s\tremaining: 1m 19s\n",
      "127:\tlearn: 0.0122347\ttest: 0.0140701\tbest: 0.0140701 (127)\ttotal: 25.8s\tremaining: 1m 19s\n",
      "128:\tlearn: 0.0122175\ttest: 0.0140609\tbest: 0.0140609 (128)\ttotal: 26s\tremaining: 1m 19s\n",
      "129:\tlearn: 0.0122085\ttest: 0.0140527\tbest: 0.0140527 (129)\ttotal: 26.1s\tremaining: 1m 18s\n",
      "130:\tlearn: 0.0121896\ttest: 0.0140488\tbest: 0.0140488 (130)\ttotal: 26.2s\tremaining: 1m 18s\n",
      "131:\tlearn: 0.0121665\ttest: 0.0140329\tbest: 0.0140329 (131)\ttotal: 26.5s\tremaining: 1m 18s\n",
      "132:\tlearn: 0.0121417\ttest: 0.0140181\tbest: 0.0140181 (132)\ttotal: 26.6s\tremaining: 1m 17s\n",
      "133:\tlearn: 0.0121309\ttest: 0.0140031\tbest: 0.0140031 (133)\ttotal: 26.8s\tremaining: 1m 17s\n",
      "134:\tlearn: 0.0121138\ttest: 0.0140008\tbest: 0.0140008 (134)\ttotal: 26.9s\tremaining: 1m 17s\n",
      "135:\tlearn: 0.0120814\ttest: 0.0139655\tbest: 0.0139655 (135)\ttotal: 27.1s\tremaining: 1m 16s\n",
      "136:\tlearn: 0.0120635\ttest: 0.0139580\tbest: 0.0139580 (136)\ttotal: 27.2s\tremaining: 1m 16s\n",
      "137:\tlearn: 0.0120442\ttest: 0.0139588\tbest: 0.0139580 (136)\ttotal: 27.3s\tremaining: 1m 15s\n",
      "138:\tlearn: 0.0120252\ttest: 0.0139477\tbest: 0.0139477 (138)\ttotal: 27.4s\tremaining: 1m 15s\n",
      "139:\tlearn: 0.0120157\ttest: 0.0139497\tbest: 0.0139477 (138)\ttotal: 27.5s\tremaining: 1m 15s\n",
      "140:\tlearn: 0.0120010\ttest: 0.0139436\tbest: 0.0139436 (140)\ttotal: 27.6s\tremaining: 1m 14s\n",
      "141:\tlearn: 0.0119808\ttest: 0.0139401\tbest: 0.0139401 (141)\ttotal: 27.7s\tremaining: 1m 14s\n",
      "142:\tlearn: 0.0119663\ttest: 0.0139522\tbest: 0.0139401 (141)\ttotal: 27.9s\tremaining: 1m 13s\n",
      "143:\tlearn: 0.0119491\ttest: 0.0139550\tbest: 0.0139401 (141)\ttotal: 28s\tremaining: 1m 13s\n",
      "144:\tlearn: 0.0119308\ttest: 0.0139460\tbest: 0.0139401 (141)\ttotal: 28.1s\tremaining: 1m 13s\n",
      "145:\tlearn: 0.0119033\ttest: 0.0139478\tbest: 0.0139401 (141)\ttotal: 28.2s\tremaining: 1m 12s\n",
      "146:\tlearn: 0.0118885\ttest: 0.0139534\tbest: 0.0139401 (141)\ttotal: 28.3s\tremaining: 1m 12s\n",
      "Stopped by overfitting detector  (5 iterations wait)\n",
      "\n",
      "bestTest = 0.01394010305\n",
      "bestIteration = 141\n",
      "\n",
      "Shrink model to first 142 iterations.\n"
     ]
    },
    {
     "data": {
      "text/plain": [
       "<catboost.core.CatBoostClassifier at 0x12712b8e0>"
      ]
     },
     "execution_count": 16,
     "metadata": {},
     "output_type": "execute_result"
    }
   ],
   "source": [
    "model.fit(dtrain, eval_set=dtest, early_stopping_rounds=5, callbacks=[WandbCallback()])\n"
   ]
  },
  {
   "cell_type": "code",
   "execution_count": 17,
   "metadata": {},
   "outputs": [],
   "source": [
    "# Сделайте предсказания\n",
    "y_pred = model.predict_proba(dtest)[:, 1]\n",
    "\n",
    "# Оцените точность модели\n",
    "gini_score = 2 * roc_auc_score(y_valid, y_pred) - 1\n",
    "\n",
    "# Залогируйте метрики\n",
    "wandb.log({\"gini\": gini_score})\n"
   ]
  },
  {
   "cell_type": "code",
   "execution_count": 18,
   "metadata": {},
   "outputs": [],
   "source": [
    "import pickle\n",
    "\n",
    "# save the iris classification model as a pickle file\n",
    "model_pkl_file = \"../models/catboost_D36.pkl\"  \n",
    "\n",
    "with open(model_pkl_file, 'wb') as file:  \n",
    "    pickle.dump(model, file)\n"
   ]
  }
 ],
 "metadata": {
  "kernelspec": {
   "display_name": "credit-scoring-system-6uT9HQl1-py3.9",
   "language": "python",
   "name": "python3"
  },
  "language_info": {
   "codemirror_mode": {
    "name": "ipython",
    "version": 3
   },
   "file_extension": ".py",
   "mimetype": "text/x-python",
   "name": "python",
   "nbconvert_exporter": "python",
   "pygments_lexer": "ipython3",
   "version": "3.9.18"
  }
 },
 "nbformat": 4,
 "nbformat_minor": 2
}
